{
  "nbformat": 4,
  "nbformat_minor": 0,
  "metadata": {
    "colab": {
      "provenance": []
    },
    "kernelspec": {
      "name": "python3",
      "display_name": "Python 3"
    },
    "language_info": {
      "name": "python"
    }
  },
  "cells": [
    {
      "cell_type": "code",
      "execution_count": 1,
      "metadata": {
        "colab": {
          "base_uri": "https://localhost:8080/",
          "height": 174
        },
        "id": "eTLmXSo8EYSs",
        "outputId": "3efe4994-ed3a-41a2-c275-61144fe8f0db"
      },
      "outputs": [
        {
          "output_type": "stream",
          "name": "stdout",
          "text": [
            "Q2. Re-indexed DataFrame:\n",
            "   A  B  C\n",
            "1  1  4  7\n",
            "3  2  5  8\n",
            "5  3  6  9\n",
            "\n",
            "Q3. Sum of the first three values: 60\n",
            "\n"
          ]
        },
        {
          "output_type": "execute_result",
          "data": {
            "text/plain": [
              "\"\\nThe first and foremost necessary library that needs to be imported to use the basic functions of pandas is 'pandas' itself.\\n\""
            ],
            "application/vnd.google.colaboratory.intrinsic+json": {
              "type": "string"
            }
          },
          "metadata": {},
          "execution_count": 1
        }
      ],
      "source": [
        "import pandas as pd\n",
        "\n",
        "# Q1. List any five functions of the pandas library with execution.\n",
        "\"\"\"\n",
        "1. pd.read_csv(): Read a CSV file into a DataFrame.\n",
        "2. pd.DataFrame(): Create a DataFrame from a dictionary or other data structure.\n",
        "3. df.head(): View the first few rows of a DataFrame.\n",
        "4. df.describe(): Generate descriptive statistics of a DataFrame.\n",
        "5. df.groupby(): Group a DataFrame by one or more columns.\n",
        "\"\"\"\n",
        "\n",
        "# Q2. Given a Pandas DataFrame df with columns 'A', 'B', and 'C', write a Python function to re-index the DataFrame with a new index that starts from 1 and increments by 2 for each row.\n",
        "def reindex_dataframe(df):\n",
        "    df.index = range(1, len(df)*2, 2)\n",
        "    return df\n",
        "\n",
        "# Example execution:\n",
        "df = pd.DataFrame({'A': [1, 2, 3], 'B': [4, 5, 6], 'C': [7, 8, 9]})\n",
        "print(\"Q2. Re-indexed DataFrame:\")\n",
        "print(reindex_dataframe(df))\n",
        "print()\n",
        "\n",
        "# Q3. You have a Pandas DataFrame df with a column named 'Values'. Write a Python function that iterates over the DataFrame and calculates the sum of the first three values in the 'Values' column.\n",
        "def sum_first_three_values(df):\n",
        "    values_sum = df['Values'].head(3).sum()\n",
        "    print(\"Q3. Sum of the first three values:\", values_sum)\n",
        "\n",
        "# Example execution:\n",
        "df_q3 = pd.DataFrame({'Values': [10, 20, 30, 40, 50]})\n",
        "sum_first_three_values(df_q3)\n",
        "print()\n",
        "\n",
        "# Q4. Given a Pandas DataFrame df with a column 'Text', write a Python function to create a new column 'Word_Count' that contains the number of words in each row of the 'Text' column.\n",
        "def word_count_column(df):\n",
        "    df['Word_Count'] = df['Text'].apply(lambda x: len(x.split()))\n",
        "    return df\n",
        "\n",
        "# Q5. How are DataFrame.size() and DataFrame.shape() different?\n",
        "\"\"\"\n",
        "DataFrame.size() returns the number of elements in the DataFrame, whereas DataFrame.shape() returns a tuple representing the dimensions of the DataFrame (number of rows, number of columns).\n",
        "\"\"\"\n",
        "\n",
        "# Q6. Which function of pandas do we use to read an excel file?\n",
        "\"\"\"\n",
        "We use pd.read_excel() function to read an Excel file into a DataFrame.\n",
        "\"\"\"\n",
        "\n",
        "# Q7. You have a Pandas DataFrame df that contains a column named 'Email' that contains email addresses in the format 'username@domain.com'. Write a Python function that creates a new column 'Username' in df that contains only the username part of each email address.\n",
        "def extract_username(df):\n",
        "    df['Username'] = df['Email'].apply(lambda x: x.split('@')[0])\n",
        "    return df\n",
        "\n",
        "# Q8. You have a Pandas DataFrame df with columns 'A', 'B', and 'C'. Write a Python function that selects all rows where the value in column 'A' is greater than 5 and the value in column 'B' is less than 10. The function should return a new DataFrame that contains only the selected rows.\n",
        "def select_rows(df):\n",
        "    selected_rows = df[(df['A'] > 5) & (df['B'] < 10)]\n",
        "    return selected_rows\n",
        "\n",
        "# Q9. Given a Pandas DataFrame df with a column 'Values', write a Python function to calculate the mean, median, and standard deviation of the values in the 'Values' column.\n",
        "def calculate_stats(df):\n",
        "    mean = df['Values'].mean()\n",
        "    median = df['Values'].median()\n",
        "    std_dev = df['Values'].std()\n",
        "    print(\"Q9. Mean:\", mean)\n",
        "    print(\"    Median:\", median)\n",
        "    print(\"    Standard Deviation:\", std_dev)\n",
        "\n",
        "# Q10. Given a Pandas DataFrame df with a column 'Sales' and a column 'Date', write a Python function to create a new column 'MovingAverage' that contains the moving average of the sales for the past 7 days for each row in the DataFrame.\n",
        "def moving_average(df):\n",
        "    df['MovingAverage'] = df['Sales'].rolling(window=7, min_periods=1).mean()\n",
        "    return df\n",
        "\n",
        "# Q11. You have a Pandas DataFrame df with a column 'Date'. Write a Python function that creates a new column 'Weekday' in the DataFrame. The 'Weekday' column should contain the weekday name (e.g. Monday, Tuesday) corresponding to each date in the 'Date' column.\n",
        "def add_weekday_column(df):\n",
        "    df['Weekday'] = df['Date'].dt.day_name()\n",
        "    return df\n",
        "\n",
        "# Q12. Given a Pandas DataFrame df with a column 'Date' that contains timestamps, write a Python function to select all rows where the date is between '2023-01-01' and '2023-01-31'.\n",
        "def select_rows_between_dates(df):\n",
        "    selected_rows = df[(df['Date'] >= '2023-01-01') & (df['Date'] <= '2023-01-31')]\n",
        "    return selected_rows\n",
        "\n",
        "# Q13. To use the basic functions of pandas, what is the first and foremost necessary library that needs to be imported?\n",
        "\"\"\"\n",
        "The first and foremost necessary library that needs to be imported to use the basic functions of pandas is 'pandas' itself.\n",
        "\"\"\"\n"
      ]
    },
    {
      "cell_type": "code",
      "source": [],
      "metadata": {
        "id": "CcZ-3TlPEa2e"
      },
      "execution_count": null,
      "outputs": []
    }
  ]
}